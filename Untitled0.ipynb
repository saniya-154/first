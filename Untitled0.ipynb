{
  "nbformat": 4,
  "nbformat_minor": 0,
  "metadata": {
    "colab": {
      "provenance": [],
      "authorship_tag": "ABX9TyMAwks/R7YAktbbJNk1HqEz",
      "include_colab_link": true
    },
    "kernelspec": {
      "name": "python3",
      "display_name": "Python 3"
    },
    "language_info": {
      "name": "python"
    }
  },
  "cells": [
    {
      "cell_type": "markdown",
      "metadata": {
        "id": "view-in-github",
        "colab_type": "text"
      },
      "source": [
        "<a href=\"https://colab.research.google.com/github/saniya-154/first/blob/main/Untitled0.ipynb\" target=\"_parent\"><img src=\"https://colab.research.google.com/assets/colab-badge.svg\" alt=\"Open In Colab\"/></a>"
      ]
    },
    {
      "cell_type": "code",
      "execution_count": null,
      "metadata": {
        "id": "Q5IZHKYqxUo2"
      },
      "outputs": [],
      "source": []
    },
    {
      "cell_type": "code",
      "source": [
        "import numpy as np\n",
        "import pandas as pd\n",
        "arr = np.array([[1,2,3,4],[2,3,4,5],[2,5,6,7],[9,8,7,8]])\n",
        "print(arr)"
      ],
      "metadata": {
        "colab": {
          "base_uri": "https://localhost:8080/"
        },
        "id": "3EdAQwT9xWof",
        "outputId": "2969e966-1383-4d37-ef00-3dc12d9176d4"
      },
      "execution_count": 21,
      "outputs": [
        {
          "output_type": "stream",
          "name": "stdout",
          "text": [
            "[[1 2 3 4]\n",
            " [2 3 4 5]\n",
            " [2 5 6 7]\n",
            " [9 8 7 8]]\n"
          ]
        }
      ]
    },
    {
      "cell_type": "code",
      "source": [
        "arr1 = pd.DataFrame(arr)\n",
        "arr1.index=('a','b','c','d')\n",
        "print(arr1)"
      ],
      "metadata": {
        "colab": {
          "base_uri": "https://localhost:8080/"
        },
        "id": "Q5H7jbNDzZc1",
        "outputId": "ebb6434d-196e-4bd4-d625-a669f9445acf"
      },
      "execution_count": 22,
      "outputs": [
        {
          "output_type": "stream",
          "name": "stdout",
          "text": [
            "   0  1  2  3\n",
            "a  1  2  3  4\n",
            "b  2  3  4  5\n",
            "c  2  5  6  7\n",
            "d  9  8  7  8\n"
          ]
        }
      ]
    },
    {
      "cell_type": "code",
      "source": [
        "arr1.dtypes"
      ],
      "metadata": {
        "colab": {
          "base_uri": "https://localhost:8080/"
        },
        "id": "eKR6WL7h1q5L",
        "outputId": "07cbd0a2-5085-4e30-98e3-6376104aa380"
      },
      "execution_count": 23,
      "outputs": [
        {
          "output_type": "execute_result",
          "data": {
            "text/plain": [
              "0    int64\n",
              "1    int64\n",
              "2    int64\n",
              "3    int64\n",
              "dtype: object"
            ]
          },
          "metadata": {},
          "execution_count": 23
        }
      ]
    }
  ]
}